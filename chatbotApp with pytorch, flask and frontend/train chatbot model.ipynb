{
 "cells": [
  {
   "cell_type": "markdown",
   "id": "5ff23345",
   "metadata": {},
   "source": [
    "# nltk_utils"
   ]
  },
  {
   "cell_type": "code",
   "execution_count": 1,
   "id": "b553bb89",
   "metadata": {},
   "outputs": [],
   "source": [
    "import numpy as np\n",
    "import nltk\n",
    "\n",
    "from nltk.stem.porter import PorterStemmer\n",
    "stemmer = PorterStemmer()\n",
    "\n",
    "\n",
    "def tokenize(sentence):\n",
    "    \"\"\"\n",
    "    split sentence into array of words/tokens\n",
    "    a token can be a word or punctuation character, or number\n",
    "    \"\"\"\n",
    "    return nltk.word_tokenize(sentence)\n",
    "\n",
    "def stem(word):\n",
    "    \"\"\"\n",
    "    stemming = find the root form of the word\n",
    "    examples:\n",
    "    words = [\"organize\", \"organizes\", \"organizing\"]\n",
    "    words = [stem(w) for w in words]\n",
    "    -> [\"organ\", \"organ\", \"organ\"]\n",
    "    \"\"\"\n",
    "    return stemmer.stem(word.lower())\n",
    "\n",
    "def bag_of_words(tokenized_sentence, words):\n",
    "    \"\"\"\n",
    "    return bag of words array:\n",
    "    1 for each known word that exists in the sentence, 0 otherwise\n",
    "    example:\n",
    "    sentence = [\"hello\", \"how\", \"are\", \"you\"]\n",
    "    words = [\"hi\", \"hello\", \"I\", \"you\", \"bye\", \"thank\", \"cool\"]\n",
    "    bag   = [  0 ,    1 ,    0 ,   1 ,    0 ,    0 ,      0]\n",
    "    \"\"\"\n",
    "    # stem each word\n",
    "    sentence_words = [stem(word) for word in tokenized_sentence]\n",
    "    # initialize bag with 0 for each word\n",
    "    bag = np.zeros(len(words), dtype=np.float32)\n",
    "    for idx, w in enumerate(words):\n",
    "        if w in sentence_words: \n",
    "            bag[idx] = 1\n",
    "\n",
    "    return bag"
   ]
  },
  {
   "cell_type": "code",
   "execution_count": 2,
   "id": "82586e2a",
   "metadata": {},
   "outputs": [
    {
     "name": "stdout",
     "output_type": "stream",
     "text": [
      "Is anyone there?\n",
      "['Is', 'anyone', 'there', '?']\n"
     ]
    }
   ],
   "source": [
    "a= \"Is anyone there?\"\n",
    "print(a)\n",
    "a = tokenize(a)\n",
    "print(a)"
   ]
  },
  {
   "cell_type": "code",
   "execution_count": 3,
   "id": "59f21af4",
   "metadata": {},
   "outputs": [
    {
     "name": "stdout",
     "output_type": "stream",
     "text": [
      "['organ', 'organ', 'organ']\n"
     ]
    }
   ],
   "source": [
    "words = [\"Organize\", \"organizes\", \"organizing\"]\n",
    "words = [stem(w) for w in words]\n",
    "print(words)"
   ]
  },
  {
   "cell_type": "markdown",
   "id": "13c62116",
   "metadata": {},
   "source": [
    "# preprocessing Data"
   ]
  },
  {
   "cell_type": "code",
   "execution_count": 4,
   "id": "4a381735",
   "metadata": {},
   "outputs": [
    {
     "name": "stdout",
     "output_type": "stream",
     "text": [
      "{'intents': [{'tag': 'greeting', 'patterns': ['Hi', 'How are you?', 'Is anyone there?', 'Hello', 'Good day', \"What's up\", 'how are ya', 'heyy', 'whatsup', '??? ??? ??'], 'responses': ['Hello!', 'Good to see you again!', 'Hi there, how can I help?'], 'context_set': ''}, {'tag': 'goodbye', 'patterns': ['cya', 'see you', 'bye bye', 'See you later', 'Goodbye', 'I am Leaving', 'Bye', 'Have a Good day', 'talk to you later', 'ttyl', 'i got to go', 'gtg'], 'responses': ['Sad to see you go :(', 'Talk to you later', 'Goodbye!', 'Come back soon'], 'context_set': ''}, {'tag': 'creator', 'patterns': ['what is the name of your developers', 'what is the name of your creators', 'what is the name of the developers', 'what is the name of the creators', 'who created you', 'your developers', 'your creators', 'who are your developers', 'developers', 'you are made by', 'you are made by whom', 'who created you', 'who create you', 'creators', 'who made you', 'who designed you'], 'responses': ['College students'], 'context_set': ''}, {'tag': 'name', 'patterns': ['name', 'your name', 'do you have a name', 'what are you called', 'what is your name', 'what should I call you', 'whats your name?', 'what are you', 'who are you', 'who is this', 'what am i chatting to', 'who am i taking to', 'what are you'], 'responses': ['You can call me Mind Reader.', \"I'm Mind Reader\", 'I am a Chatbot.', 'I am your helper'], 'context_set': ''}, {'tag': 'hours', 'patterns': ['timing of college', 'what is college timing', 'working days', 'when are you guys open', 'what are your hours', 'hours of operation', 'when is the college open', 'college timing', 'what about college timing', 'is college open on saturday', 'tell something about college timing', 'what is the college  hours', 'when should i come to college', 'when should i attend college', 'what is my college time', 'college timing', 'timing college'], 'responses': ['College is open 8am-5pm Monday-Saturday!'], 'context_set': ''}, {'tag': 'number', 'patterns': ['more info', 'contact info', 'how to contact college', 'college telephone number', 'college number', 'What is your contact no', 'Contact number?', 'how to call you', 'College phone no?', 'how can i contact you', 'Can i get your phone number', 'how can i call you', 'phone number', 'phone no', 'call'], 'responses': ['You can contact at: NUMBER'], 'context_set': ''}, {'tag': 'course', 'patterns': ['list of courses', 'list of courses offered', 'list of courses offered in', 'what are the courses offered in your college?', 'courses?', 'courses offered', 'courses offered in (your univrsity(UNI) name)', 'courses you offer', 'branches?', 'courses available at UNI?', 'branches available at your college?', 'what are the courses in UNI?', 'what are branches in UNI?', 'what are courses in UNI?', 'branches available in UNI?', 'can you tell me the courses available in UNI?', 'can you tell me the branches available in UNI?', 'computer engineering?', 'computer', 'Computer engineering?', 'it', 'IT', 'Information Technology', 'AI/Ml', 'Mechanical engineering', 'Chemical engineering', 'Civil engineering'], 'responses': ['Our university offers Information Technology, computer Engineering, Mechanical engineering,Chemical engineering, Civil engineering and extc Engineering.'], 'context_set': ''}, {'tag': 'fees', 'patterns': ['information about fee', 'information on fee', 'tell me the fee', 'college fee', 'fee per semester', 'what is the fee of each semester', 'what is the fees of each year', 'what is fee', 'what is the fees', 'how much is the fees', 'fees for first year', 'fees', 'about the fees', 'tell me something about the fees', 'What is the fees of hostel', 'how much is the fees', 'hostel fees', 'fees for AC room', 'fees for non-AC room', 'fees for Ac room for girls', 'fees for non-Ac room for girls', 'fees for Ac room for boys', 'fees for non-Ac room for boys'], 'responses': ['For Fee detail visit <a target=\"_blank\" href=\"LINK\"> here</a>'], 'context_set': ''}, {'tag': 'location', 'patterns': ['where is the college located', 'college is located at', 'where is college', 'where is college located', 'address of college', 'how to reach college', 'college location', 'college address', 'wheres the college', 'how can I reach college', 'whats is the college address', 'what is the address of college', 'address', 'location'], 'responses': ['<a target=\"_blank\" href=\"ADD YOU GOOGLE MAP LINK HERE\"> here</a>'], 'context_set': ''}, {'tag': 'hostel', 'patterns': ['hostel facility', 'hostel servive', 'hostel location', 'hostel address', 'hostel facilities', 'hostel fees', 'Does college provide hostel', 'Is there any hostel', 'Where is hostel', 'do you have hostel', 'do you guys have hostel', 'hostel', 'hostel capacity', 'what is the hostel fee', 'how to get in hostel', 'what is the hostel address', 'how far is hostel from college', 'hostel college distance', 'where is the hostel', 'how big is the hostel', 'distance between college and hostel', 'distance between hostel and college'], 'responses': ['For hostel detail visit <a target=\"_blank\" href=\"ADD YOUR HOSTEL DETAIL PDF LINK OR ANY INFORMATION LINK OR ADD YOU OWN ANSWERS\"> here</a>'], 'context_set': ''}, {'tag': 'event', 'patterns': ['events organised', 'list of events', 'list of events organised in college', 'list of events conducted in college', 'What events are conducted in college', 'Are there any event held at college', 'Events?', 'functions', 'what are the events', 'tell me about events', 'what about events'], 'responses': ['For event detail visit <a target=\"_blank\" href=\"ADD YOUR FUNCTIONS LINK OR YOUR OWN RESPONSE\"> here</a>'], 'context_set': ''}, {'tag': 'document', 'patterns': ['document to bring', 'documents needed for admision', 'documents needed at the time of admission', 'documents needed during admission', 'documents required for admision', 'documents required at the time of admission', 'documents required during admission', 'What document are required for admission', 'Which document to bring for admission', 'documents', 'what documents do i need', 'what documents do I need for admission', 'documents needed'], 'responses': ['To know more about document required visit <a target=\"_blank\" href=\"ADD LINK OF ADMISSION GUIDANCE DOCUMENT FROM YOUR UNIVERSITY WEBSITE\"> here</a>'], 'context_set': ''}, {'tag': 'floors', 'patterns': ['size of campus', 'building size', 'How many floors does college have', 'floors in college', 'floors in college', \"how tall is UNI's College of Engineering college building\", 'floors'], 'responses': ['My College has total 2 floors '], 'context_set': ''}, {'tag': 'syllabus', 'patterns': ['Syllabus for IT', 'what is the Information Technology syllabus', 'syllabus', 'timetable', 'what is IT syllabus', 'syllabus', 'What is next lecture'], 'responses': ['Timetable provide direct to the students OR To know about syllabus visit <a target=\"_blank\" href=\"TIMETABLE LINK\"> here</a>'], 'context_set': ''}, {'tag': 'library', 'patterns': ['is there any library', 'library facility', 'library facilities', 'do you have library', 'does the college have library facility', 'college library', 'where can i get books', 'book facility', 'Where is library', 'Library', 'Library information', 'Library books information', 'Tell me about library', 'how many libraries'], 'responses': ['There is one huge and spacious library.timings are 8am to 6pm and for more visit <a target=\"blank\" href=\"ADD LIBRARY DETAIL LINK\">here</a>'], 'context_set': ''}, {'tag': 'infrastructure', 'patterns': ['how is college infrastructure', 'infrastructure', 'college infrastructure'], 'responses': ['Our University has Excellent Infrastructure. Campus is clean. Good IT Labs With Good Speed of Internet connection'], 'context_set': ''}, {'tag': 'canteen', 'patterns': ['food facilities', 'canteen facilities', 'canteen facility', 'is there any canteen', 'Is there a cafetaria in college', 'Does college have canteen', 'Where is canteen', 'where is cafetaria', 'canteen', 'Food', 'Cafetaria'], 'responses': ['Our university has canteen with variety of food available'], 'context_set': ''}, {'tag': 'menu', 'patterns': ['food menu', 'food in canteen', 'Whats there on menu', 'what is available in college canteen', 'what foods can we get in college canteen', 'food variety', 'What is there to eat?'], 'responses': ['we serve Franky, Locho, Alu-puri, Kachori, Khavsa, Thaali and many more on menu'], 'context_set': ''}, {'tag': 'placement', 'patterns': ['What is college placement', 'Which companies visit in college', 'What is average package', 'companies visit', 'package', 'About placement', 'placement', 'recruitment', 'companies'], 'responses': ['To know about placement visit <a target=\"_blank\" href=\"PLACEMENT INFORMATION LINK FROM YOUR UNIVERSITY WEBSITE IF THEY HAVE\">here</a>'], 'context_set': ''}, {'tag': 'ithod', 'patterns': ['Who is HOD', 'Where is HOD', 'it hod', 'name of it hod'], 'responses': ['All engineering departments have only one hod XYZ who available on (Place name)'], 'context_set': ''}, {'tag': 'computerhod', 'patterns': ['Who is computer HOD', 'Where is computer HOD', 'computer hod', 'name of computer hod'], 'responses': ['All engineering departments have only one hod XYZ who available on (PLACE NAME)'], 'context_set': ''}, {'tag': 'extchod', 'patterns': ['Who is extc HOD', 'Where is  extc HOD', 'extc hod', 'name of extc hod'], 'responses': ['Different school wise hod are different.So be more clear with your school or department'], 'context_set': ''}, {'tag': 'principal', 'patterns': ['what is the name of principal', 'whatv is the principal name', 'principal name', 'Who is college principal', \"Where is principal's office\", 'principal', 'name of principal'], 'responses': ['XYZ is college principal and if you need any help then call your branch hod first.That is more appropriate'], 'context_set': ''}, {'tag': 'sem', 'patterns': ['exam dates', 'exam schedule', 'When is semester exam', 'Semester exam timetable', 'sem', 'semester', 'exam', 'when is exam', 'exam timetable', 'exam dates', 'when is semester'], 'responses': ['Here is the Academic Calendar  <a target=\"_blank\" href=\"YOUR ACADEMIC CALENDER\">website</a>'], 'context_set': ''}, {'tag': 'admission', 'patterns': ['what is the process of admission', 'what is the admission process', 'How to take admission in your college', 'What is the process for admission', 'admission', 'admission process'], 'responses': ['Application can also be submitted online through the Unversity\\'s  <a target=\"_blank\" href=\"LINK OF ADMISSION DOCUMENT\">website</a>'], 'context_set': ''}, {'tag': 'scholarship', 'patterns': ['scholarship', 'Is scholarship available', 'scholarship engineering', 'scholarship it', 'scholarship ce', 'scholarship mechanical', 'scholarship civil', 'scholarship chemical', 'scholarship for AI/ML', 'available scholarships', 'scholarship for computer engineering', 'scholarship for IT engineering', 'scholarship for mechanical engineering', 'scholarship for civil engineering', 'scholarship for chemical engineering', 'list of scholarship', 'comps scholarship', 'IT scholarship', 'mechanical scholarship', 'civil scholarship', 'chemical scholarship', 'automobile scholarship', 'first year scholarship', 'second year scholarship', 'third year scholarship', 'fourth year scholarship'], 'responses': ['Many government scholarships are supported by our university. For details and updates visit <a target=\"_blank\" href=\"(SCHOLARSHIP DETAILS LINK)\">here</a>'], 'context_set': ''}, {'tag': 'facilities', 'patterns': ['What facilities college provide', 'College facility', 'What are college facilities', 'facilities', 'facilities provided'], 'responses': [\"Our university's Engineering department provides fully AC Lab with internet connection, smart classroom, Auditorium, library,canteen\"], 'context_set': ''}, {'tag': 'college intake', 'patterns': ['max number of students', 'number of seats per branch', 'number of seats in each branch', 'maximum number of seats', 'maximum students intake', 'What is college intake', 'how many stundent are taken in each branch', 'seat allotment', 'seats'], 'responses': ['For IT, Computer and extc 60 per branch and seat may be differ for different department.'], 'context_set': ''}, {'tag': 'uniform', 'patterns': ['college dress code', 'college dresscode', 'what is the uniform', 'can we wear casuals', 'Does college have an uniform', 'Is there any uniform', 'uniform', 'what about uniform', 'do we have to wear uniform'], 'responses': ['ENTER YOUR OWN UNIVERSITY UNIFORM CIRCULER'], 'context_set': ''}, {'tag': 'committee', 'patterns': ['what are the different committe in college', 'different committee in college', 'Are there any committee in college', 'Give me committee details', 'committee', 'how many committee are there in college'], 'responses': ['For the various committe in college contact this number: ADD NUMBER'], 'context_set': ''}, {'tag': 'random', 'patterns': ['I love you', 'Will you marry me', 'Do you love me'], 'responses': ['I am not program for this, please ask appropriate query'], 'context_set': ''}, {'tag': 'swear', 'patterns': ['fuck', 'bitch', 'shut up', 'hell', 'stupid', 'idiot', 'dumb ass', 'asshole', 'fucker'], 'responses': ['please use appropriate language', 'Maintaining decency would be appreciated'], 'context_set': ''}, {'tag': 'vacation', 'patterns': ['holidays', 'when will semester starts', 'when will semester end', 'when is the holidays', 'list of holidays', 'Holiday in these year', 'holiday list', 'about vacations', 'about holidays', 'When is vacation', 'When is holidays', 'how long will be the vacation'], 'responses': ['Academic calender is given to you by your class-soordinators after you join your respective classes'], 'context_set': ''}, {'tag': 'sports', 'patterns': ['sports and games', 'give sports details', 'sports infrastructure', 'sports facilities', 'information about sports', 'Sports activities', 'please provide sports and games information'], 'responses': ['Our university encourages all-round development of students and hence provides sports facilities in the campus. For more details visit<a target=\"_blank\" href=/\"(LINK IF HAVE)\">here</a>'], 'context_set': ''}, {'tag': 'salutaion', 'patterns': ['okk', 'okie', 'nice work', 'well done', 'good job', 'thanks for the help', 'Thank You', 'its ok', 'Thanks', 'Good work', 'k', 'ok', 'okay'], 'responses': ['I am glad I helped you', 'welcome, anything else i can assist you with?'], 'context_set': ''}, {'tag': 'task', 'patterns': ['what can you do', 'what are the thing you can do', 'things you can do', 'what can u do for me', 'how u can help me', 'why i should use you'], 'responses': ['I can answer to low-intermediate questions regarding college', 'You can ask me questions regarding college, and i will try to answer them'], 'context_set': ''}, {'tag': 'ragging', 'patterns': ['ragging', 'is ragging practice active in college', 'does college have any antiragging facility', 'is there any ragging cases', 'is ragging done here', 'ragging against', 'antiragging facility', 'ragging juniors', 'ragging history', 'ragging incidents'], 'responses': ['We are Proud to tell you that our college provides ragging free environment, and we have strict rules against ragging'], 'context_set': ''}, {'tag': 'hod', 'patterns': ['hod', 'hod name', 'who is the hod'], 'responses': ['HODs differ for each branch, please be more specific like: (HOD it)'], 'context_set': ''}]}\n"
     ]
    }
   ],
   "source": [
    "import random\n",
    "import json\n",
    "\n",
    "with open('intents.json', 'r') as f:\n",
    "    intents = json.load(f)\n",
    "    \n",
    "print(intents)"
   ]
  },
  {
   "cell_type": "code",
   "execution_count": 5,
   "id": "d0f051bf",
   "metadata": {},
   "outputs": [
    {
     "name": "stdout",
     "output_type": "stream",
     "text": [
      "405 patterns\n",
      "38 tags: ['admission', 'canteen', 'college intake', 'committee', 'computerhod', 'course', 'creator', 'document', 'event', 'extchod', 'facilities', 'fees', 'floors', 'goodbye', 'greeting', 'hod', 'hostel', 'hours', 'infrastructure', 'ithod', 'library', 'location', 'menu', 'name', 'number', 'placement', 'principal', 'ragging', 'random', 'salutaion', 'scholarship', 'sem', 'sports', 'swear', 'syllabus', 'task', 'uniform', 'vacation']\n",
      "250 unique stemmed words: [\"'s\", '(', ')', 'a', 'about', 'ac', 'activ', 'address', 'admis', 'admiss', 'against', 'ai/ml', 'allot', 'am', 'an', 'and', 'ani', 'antirag', 'anyon', 'are', 'ass', 'asshol', 'at', 'attend', 'automobil', 'avail', 'averag', 'be', 'between', 'big', 'bitch', 'book', 'boy', 'branch', 'bring', 'build', 'by', 'bye', 'cafetaria', 'call', 'campu', 'can', 'canteen', 'capac', 'case', 'casual', 'ce', 'chat', 'chemic', 'civil', 'code', 'colleg', 'come', 'committ', 'committe', 'comp', 'compani', 'comput', 'conduct', 'contact', 'cours', 'creat', 'creator', 'cya', 'date', 'day', 'design', 'detail', 'develop', 'differ', 'distanc', 'do', 'document', 'doe', 'done', 'dress', 'dresscod', 'dumb', 'dure', 'each', 'eat', 'end', 'engin', 'event', 'exam', 'extc', 'facil', 'far', 'fee', 'first', 'floor', 'food', 'for', 'fourth', 'from', 'fuck', 'fucker', 'function', 'game', 'get', 'girl', 'give', 'go', 'good', 'goodby', 'got', 'gtg', 'guy', 'have', 'held', 'hell', 'hello', 'help', 'here', 'heyi', 'hi', 'histori', 'hod', 'holiday', 'hostel', 'hour', 'how', 'i', 'idiot', 'in', 'incid', 'info', 'inform', 'infrastructur', 'intak', 'is', 'it', 'job', 'junior', 'k', 'later', 'leav', 'lectur', 'librari', 'list', 'locat', 'long', 'love', 'made', 'mani', 'marri', 'max', 'maximum', 'me', 'mechan', 'menu', 'more', 'much', 'my', 'name', 'need', 'next', 'nice', 'no', 'non-ac', 'number', 'of', 'offer', 'offic', 'ok', 'okay', 'oki', 'okk', 'on', 'open', 'oper', 'organis', 'packag', 'per', 'phone', 'placement', 'pleas', 'practic', 'princip', 'process', 'provid', 'rag', 'reach', 'recruit', 'requir', 'room', 'saturday', 'schedul', 'scholarship', 'seat', 'second', 'see', 'sem', 'semest', 'serviv', 'should', 'shut', 'size', 'someth', 'sport', 'start', 'student', 'stundent', 'stupid', 'syllabu', 'take', 'taken', 'talk', 'tall', 'technolog', 'telephon', 'tell', 'thank', 'the', 'there', 'these', 'thi', 'thing', 'third', 'time', 'timet', 'to', 'ttyl', 'u', 'uni', 'uniform', 'univrs', 'up', 'use', 'vacat', 'varieti', 'visit', 'we', 'wear', 'well', 'what', 'whatsup', 'whatv', 'when', 'where', 'whi', 'which', 'who', 'whom', 'will', 'work', 'ya', 'year', 'you', 'your']\n"
     ]
    }
   ],
   "source": [
    "all_words = []\n",
    "tags = []\n",
    "xy = []\n",
    "# loop through each sentence in our intents patterns\n",
    "for intent in intents['intents']:\n",
    "    tag = intent['tag']\n",
    "    # add to tag list\n",
    "    tags.append(tag)\n",
    "    for pattern in intent['patterns']:\n",
    "        # tokenize each word in the sentence\n",
    "        w = tokenize(pattern)\n",
    "        # add to our words list\n",
    "        all_words.extend(w)\n",
    "        # add to xy pair\n",
    "        xy.append((w, tag))\n",
    "\n",
    "# stem and lower each word\n",
    "ignore_words = ['?', '.', '!']\n",
    "all_words = [stem(w) for w in all_words if w not in ignore_words]\n",
    "# remove duplicates and sort\n",
    "all_words = sorted(set(all_words))\n",
    "tags = sorted(set(tags))\n",
    "\n",
    "print(len(xy), \"patterns\")\n",
    "print(len(tags), \"tags:\", tags)\n",
    "print(len(all_words), \"unique stemmed words:\", all_words)\n"
   ]
  },
  {
   "cell_type": "markdown",
   "id": "983f150b",
   "metadata": {},
   "source": [
    "# create training data\n"
   ]
  },
  {
   "cell_type": "code",
   "execution_count": 6,
   "id": "49eb6949",
   "metadata": {},
   "outputs": [],
   "source": [
    "X_train = []\n",
    "y_train = []\n",
    "for (pattern_sentence, tag) in xy:\n",
    "    # X: bag of words for each pattern_sentence\n",
    "    bag = bag_of_words(pattern_sentence, all_words)\n",
    "    X_train.append(bag)\n",
    "    # y: PyTorch CrossEntropyLoss needs only class labels, not one-hot\n",
    "    label = tags.index(tag)\n",
    "    y_train.append(label)\n",
    "\n",
    "X_train = np.array(X_train)\n",
    "y_train = np.array(y_train)"
   ]
  },
  {
   "cell_type": "markdown",
   "id": "68939fcb",
   "metadata": {},
   "source": [
    "# Hyper-parameters \n"
   ]
  },
  {
   "cell_type": "code",
   "execution_count": 7,
   "id": "a2f91f76",
   "metadata": {},
   "outputs": [
    {
     "name": "stdout",
     "output_type": "stream",
     "text": [
      "250 38\n"
     ]
    }
   ],
   "source": [
    "from torch.utils.data import Dataset, DataLoader\n",
    "\n",
    "num_epochs = 1000\n",
    "batch_size = 8\n",
    "learning_rate = 0.001\n",
    "input_size = len(X_train[0])\n",
    "hidden_size = 8\n",
    "output_size = len(tags)\n",
    "print(input_size, output_size)\n",
    "\n",
    "class ChatDataset(Dataset):\n",
    "\n",
    "    def __init__(self):\n",
    "        self.n_samples = len(X_train)\n",
    "        self.x_data = X_train\n",
    "        self.y_data = y_train\n",
    "\n",
    "    # support indexing such that dataset[i] can be used to get i-th sample\n",
    "    def __getitem__(self, index):\n",
    "        return self.x_data[index], self.y_data[index]\n",
    "\n",
    "    # we can call len(dataset) to return the size\n",
    "    def __len__(self):\n",
    "        return self.n_samples\n",
    "    \n",
    "    \n",
    "dataset = ChatDataset()\n",
    "train_loader = DataLoader(dataset=dataset,\n",
    "                          batch_size=batch_size,\n",
    "                          shuffle=True,\n",
    "                          num_workers=0)\n"
   ]
  },
  {
   "cell_type": "markdown",
   "id": "c2404f4f",
   "metadata": {},
   "source": [
    "# Build neurel network"
   ]
  },
  {
   "cell_type": "code",
   "execution_count": 8,
   "id": "cc63b7f9",
   "metadata": {},
   "outputs": [],
   "source": [
    "import torch\n",
    "import torch.nn as nn\n",
    "\n",
    "\n",
    "class NeuralNet(nn.Module):\n",
    "    def __init__(self, input_size, hidden_size, num_classes):\n",
    "        super(NeuralNet, self).__init__()\n",
    "        self.l1 = nn.Linear(input_size, hidden_size) \n",
    "        self.l2 = nn.Linear(hidden_size, hidden_size) \n",
    "        self.l3 = nn.Linear(hidden_size, num_classes)\n",
    "        self.relu = nn.ReLU()\n",
    "    \n",
    "    def forward(self, x):\n",
    "        out = self.l1(x)\n",
    "        out = self.relu(out)\n",
    "        out = self.l2(out)\n",
    "        out = self.relu(out)\n",
    "        out = self.l3(out)\n",
    "        # no activation and no softmax at the end\n",
    "        return out\n",
    "    \n",
    "    \n",
    "    \n",
    "\n",
    "device = torch.device('cuda' if torch.cuda.is_available() else 'cpu')\n",
    "\n",
    "model = NeuralNet(input_size, hidden_size, output_size).to(device)"
   ]
  },
  {
   "cell_type": "markdown",
   "id": "6be99276",
   "metadata": {},
   "source": [
    "# Loss and optimizer\n"
   ]
  },
  {
   "cell_type": "code",
   "execution_count": 9,
   "id": "10589f1f",
   "metadata": {},
   "outputs": [],
   "source": [
    "criterion = nn.CrossEntropyLoss()\n",
    "optimizer = torch.optim.Adam(model.parameters(), lr=learning_rate)"
   ]
  },
  {
   "cell_type": "markdown",
   "id": "57bf2696",
   "metadata": {},
   "source": [
    "# Train the model\n"
   ]
  },
  {
   "cell_type": "code",
   "execution_count": 10,
   "id": "77c46b4a",
   "metadata": {},
   "outputs": [
    {
     "name": "stdout",
     "output_type": "stream",
     "text": [
      "Epoch [100/1000], Loss: 0.026848450303077698\n",
      "Epoch [200/1000], Loss: 0.0010695930104702711\n",
      "Epoch [300/1000], Loss: 0.0006935623241588473\n",
      "Epoch [400/1000], Loss: 2.238697743450757e-05\n",
      "Epoch [500/1000], Loss: 2.1457667287450022e-07\n",
      "Epoch [600/1000], Loss: 9.536741885085576e-08\n",
      "Epoch [700/1000], Loss: 0.0\n",
      "Epoch [800/1000], Loss: 0.0\n",
      "Epoch [900/1000], Loss: 2.384185648907078e-08\n",
      "Epoch [1000/1000], Loss: 7.009383352851728e-06\n",
      "final loss: 7.009383352851728e-06\n"
     ]
    }
   ],
   "source": [
    "for epoch in range(num_epochs):\n",
    "    for (words, labels) in train_loader:\n",
    "        words = words.to(device)\n",
    "        labels = labels.to(dtype=torch.long).to(device)\n",
    "        \n",
    "        # Forward pass\n",
    "        outputs = model(words)\n",
    "        # if y would be one-hot, we must apply\n",
    "        # labels = torch.max(labels, 1)[1]\n",
    "        loss = criterion(outputs, labels)\n",
    "        \n",
    "        # Backward and optimize\n",
    "        optimizer.zero_grad()\n",
    "        loss.backward()\n",
    "        optimizer.step()\n",
    "        \n",
    "    if (epoch+1) % 100 == 0:\n",
    "        print (f'Epoch [{epoch+1}/{num_epochs}], Loss: {loss.item()}')\n",
    "\n",
    "\n",
    "print(f'final loss: {loss.item()}')"
   ]
  },
  {
   "cell_type": "markdown",
   "id": "ff54fb06",
   "metadata": {},
   "source": [
    "# save model"
   ]
  },
  {
   "cell_type": "code",
   "execution_count": 11,
   "id": "c8e89eaa",
   "metadata": {},
   "outputs": [
    {
     "name": "stdout",
     "output_type": "stream",
     "text": [
      "training complete. file saved to data.pth\n"
     ]
    }
   ],
   "source": [
    "data = {\n",
    "\"model_state\": model.state_dict(),\n",
    "\"input_size\": input_size,\n",
    "\"hidden_size\": hidden_size,\n",
    "\"output_size\": output_size,\n",
    "\"all_words\": all_words,\n",
    "\"tags\": tags\n",
    "}\n",
    "\n",
    "FILE = \"data.pth\"\n",
    "torch.save(data, FILE)\n",
    "\n",
    "print(f'training complete. file saved to {FILE}')"
   ]
  },
  {
   "cell_type": "code",
   "execution_count": null,
   "id": "6f35d017",
   "metadata": {},
   "outputs": [],
   "source": []
  },
  {
   "cell_type": "code",
   "execution_count": null,
   "id": "d56f378e",
   "metadata": {},
   "outputs": [],
   "source": []
  }
 ],
 "metadata": {
  "kernelspec": {
   "display_name": "Python 3 (ipykernel)",
   "language": "python",
   "name": "python3"
  },
  "language_info": {
   "codemirror_mode": {
    "name": "ipython",
    "version": 3
   },
   "file_extension": ".py",
   "mimetype": "text/x-python",
   "name": "python",
   "nbconvert_exporter": "python",
   "pygments_lexer": "ipython3",
   "version": "3.7.3"
  }
 },
 "nbformat": 4,
 "nbformat_minor": 5
}
